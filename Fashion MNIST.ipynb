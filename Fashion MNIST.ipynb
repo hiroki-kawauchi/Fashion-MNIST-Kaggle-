{
 "cells": [
  {
   "cell_type": "markdown",
   "metadata": {},
   "source": [
    "\"Fashion-MNIST is a dataset of Zalando's article images—consisting of a training set of 60,000 examples and a test set of 10,000 examples. Each example is a 28x28 grayscale image, associated with a label from 10 classes.\"<https://www.kaggle.com/zalando-research/fashionmnist>  \n",
    "### ※Labels are;\n",
    "* 0 T-shirt/top\n",
    "* 1 Trouser\n",
    "* 2 Pullover\n",
    "* 3 Dress\n",
    "* 4 Coat\n",
    "* 5 Sandal\n",
    "* 6 Shirt\n",
    "* 7 Sneaker\n",
    "* 8 Bag\n",
    "* 9 Ankle boot "
   ]
  },
  {
   "cell_type": "code",
   "execution_count": 3,
   "metadata": {
    "collapsed": true
   },
   "outputs": [],
   "source": [
    "import pandas as pd\n",
    "import numpy as np\n",
    "import matplotlib.pyplot as plt\n",
    "% matplotlib inline\n",
    "\n",
    "import chainer \n",
    "import chainer.functions as F\n",
    "import chainer.links as L\n",
    "from chainer import computational_graph\n",
    "from chainer import serializers"
   ]
  },
  {
   "cell_type": "code",
   "execution_count": 4,
   "metadata": {},
   "outputs": [
    {
     "data": {
      "text/html": [
       "<div>\n",
       "<style>\n",
       "    .dataframe thead tr:only-child th {\n",
       "        text-align: right;\n",
       "    }\n",
       "\n",
       "    .dataframe thead th {\n",
       "        text-align: left;\n",
       "    }\n",
       "\n",
       "    .dataframe tbody tr th {\n",
       "        vertical-align: top;\n",
       "    }\n",
       "</style>\n",
       "<table border=\"1\" class=\"dataframe\">\n",
       "  <thead>\n",
       "    <tr style=\"text-align: right;\">\n",
       "      <th></th>\n",
       "      <th>label</th>\n",
       "      <th>pixel1</th>\n",
       "      <th>pixel2</th>\n",
       "      <th>pixel3</th>\n",
       "      <th>pixel4</th>\n",
       "      <th>pixel5</th>\n",
       "      <th>pixel6</th>\n",
       "      <th>pixel7</th>\n",
       "      <th>pixel8</th>\n",
       "      <th>pixel9</th>\n",
       "      <th>...</th>\n",
       "      <th>pixel775</th>\n",
       "      <th>pixel776</th>\n",
       "      <th>pixel777</th>\n",
       "      <th>pixel778</th>\n",
       "      <th>pixel779</th>\n",
       "      <th>pixel780</th>\n",
       "      <th>pixel781</th>\n",
       "      <th>pixel782</th>\n",
       "      <th>pixel783</th>\n",
       "      <th>pixel784</th>\n",
       "    </tr>\n",
       "  </thead>\n",
       "  <tbody>\n",
       "    <tr>\n",
       "      <th>0</th>\n",
       "      <td>2</td>\n",
       "      <td>0</td>\n",
       "      <td>0</td>\n",
       "      <td>0</td>\n",
       "      <td>0</td>\n",
       "      <td>0</td>\n",
       "      <td>0</td>\n",
       "      <td>0</td>\n",
       "      <td>0</td>\n",
       "      <td>0</td>\n",
       "      <td>...</td>\n",
       "      <td>0</td>\n",
       "      <td>0</td>\n",
       "      <td>0</td>\n",
       "      <td>0</td>\n",
       "      <td>0</td>\n",
       "      <td>0</td>\n",
       "      <td>0</td>\n",
       "      <td>0</td>\n",
       "      <td>0</td>\n",
       "      <td>0</td>\n",
       "    </tr>\n",
       "    <tr>\n",
       "      <th>1</th>\n",
       "      <td>9</td>\n",
       "      <td>0</td>\n",
       "      <td>0</td>\n",
       "      <td>0</td>\n",
       "      <td>0</td>\n",
       "      <td>0</td>\n",
       "      <td>0</td>\n",
       "      <td>0</td>\n",
       "      <td>0</td>\n",
       "      <td>0</td>\n",
       "      <td>...</td>\n",
       "      <td>0</td>\n",
       "      <td>0</td>\n",
       "      <td>0</td>\n",
       "      <td>0</td>\n",
       "      <td>0</td>\n",
       "      <td>0</td>\n",
       "      <td>0</td>\n",
       "      <td>0</td>\n",
       "      <td>0</td>\n",
       "      <td>0</td>\n",
       "    </tr>\n",
       "    <tr>\n",
       "      <th>2</th>\n",
       "      <td>6</td>\n",
       "      <td>0</td>\n",
       "      <td>0</td>\n",
       "      <td>0</td>\n",
       "      <td>0</td>\n",
       "      <td>0</td>\n",
       "      <td>0</td>\n",
       "      <td>0</td>\n",
       "      <td>5</td>\n",
       "      <td>0</td>\n",
       "      <td>...</td>\n",
       "      <td>0</td>\n",
       "      <td>0</td>\n",
       "      <td>0</td>\n",
       "      <td>30</td>\n",
       "      <td>43</td>\n",
       "      <td>0</td>\n",
       "      <td>0</td>\n",
       "      <td>0</td>\n",
       "      <td>0</td>\n",
       "      <td>0</td>\n",
       "    </tr>\n",
       "    <tr>\n",
       "      <th>3</th>\n",
       "      <td>0</td>\n",
       "      <td>0</td>\n",
       "      <td>0</td>\n",
       "      <td>0</td>\n",
       "      <td>1</td>\n",
       "      <td>2</td>\n",
       "      <td>0</td>\n",
       "      <td>0</td>\n",
       "      <td>0</td>\n",
       "      <td>0</td>\n",
       "      <td>...</td>\n",
       "      <td>3</td>\n",
       "      <td>0</td>\n",
       "      <td>0</td>\n",
       "      <td>0</td>\n",
       "      <td>0</td>\n",
       "      <td>1</td>\n",
       "      <td>0</td>\n",
       "      <td>0</td>\n",
       "      <td>0</td>\n",
       "      <td>0</td>\n",
       "    </tr>\n",
       "    <tr>\n",
       "      <th>4</th>\n",
       "      <td>3</td>\n",
       "      <td>0</td>\n",
       "      <td>0</td>\n",
       "      <td>0</td>\n",
       "      <td>0</td>\n",
       "      <td>0</td>\n",
       "      <td>0</td>\n",
       "      <td>0</td>\n",
       "      <td>0</td>\n",
       "      <td>0</td>\n",
       "      <td>...</td>\n",
       "      <td>0</td>\n",
       "      <td>0</td>\n",
       "      <td>0</td>\n",
       "      <td>0</td>\n",
       "      <td>0</td>\n",
       "      <td>0</td>\n",
       "      <td>0</td>\n",
       "      <td>0</td>\n",
       "      <td>0</td>\n",
       "      <td>0</td>\n",
       "    </tr>\n",
       "  </tbody>\n",
       "</table>\n",
       "<p>5 rows × 785 columns</p>\n",
       "</div>"
      ],
      "text/plain": [
       "   label  pixel1  pixel2  pixel3  pixel4  pixel5  pixel6  pixel7  pixel8  \\\n",
       "0      2       0       0       0       0       0       0       0       0   \n",
       "1      9       0       0       0       0       0       0       0       0   \n",
       "2      6       0       0       0       0       0       0       0       5   \n",
       "3      0       0       0       0       1       2       0       0       0   \n",
       "4      3       0       0       0       0       0       0       0       0   \n",
       "\n",
       "   pixel9    ...     pixel775  pixel776  pixel777  pixel778  pixel779  \\\n",
       "0       0    ...            0         0         0         0         0   \n",
       "1       0    ...            0         0         0         0         0   \n",
       "2       0    ...            0         0         0        30        43   \n",
       "3       0    ...            3         0         0         0         0   \n",
       "4       0    ...            0         0         0         0         0   \n",
       "\n",
       "   pixel780  pixel781  pixel782  pixel783  pixel784  \n",
       "0         0         0         0         0         0  \n",
       "1         0         0         0         0         0  \n",
       "2         0         0         0         0         0  \n",
       "3         1         0         0         0         0  \n",
       "4         0         0         0         0         0  \n",
       "\n",
       "[5 rows x 785 columns]"
      ]
     },
     "execution_count": 4,
     "metadata": {},
     "output_type": "execute_result"
    }
   ],
   "source": [
    "mnist_train = pd.read_csv('fashion_mnist_train.csv')\n",
    "mnist_train.head()"
   ]
  },
  {
   "cell_type": "code",
   "execution_count": 5,
   "metadata": {},
   "outputs": [
    {
     "data": {
      "text/plain": [
       "array([[0, 0, 0, ..., 0, 0, 0],\n",
       "       [0, 0, 0, ..., 0, 0, 0],\n",
       "       [0, 0, 0, ..., 0, 0, 0],\n",
       "       ...,\n",
       "       [0, 0, 0, ..., 0, 0, 0],\n",
       "       [0, 0, 0, ..., 0, 0, 0],\n",
       "       [0, 0, 0, ..., 0, 0, 0]])"
      ]
     },
     "execution_count": 5,
     "metadata": {},
     "output_type": "execute_result"
    }
   ],
   "source": [
    "X = np.array(mnist_train.iloc[:, 1:])\n",
    "y = np.array(mnist_train.iloc[:, 0])\n",
    "X"
   ]
  },
  {
   "cell_type": "code",
   "execution_count": 6,
   "metadata": {},
   "outputs": [
    {
     "data": {
      "text/plain": [
       "array([2, 9, 6, ..., 8, 8, 7])"
      ]
     },
     "execution_count": 6,
     "metadata": {},
     "output_type": "execute_result"
    }
   ],
   "source": [
    "y"
   ]
  },
  {
   "cell_type": "code",
   "execution_count": 7,
   "metadata": {
    "collapsed": true
   },
   "outputs": [],
   "source": [
    "X = X.astype(np.float32)\n",
    "y = y.astype(np.int32)"
   ]
  },
  {
   "cell_type": "code",
   "execution_count": 8,
   "metadata": {},
   "outputs": [
    {
     "data": {
      "text/plain": [
       "(60000, 784)"
      ]
     },
     "execution_count": 8,
     "metadata": {},
     "output_type": "execute_result"
    }
   ],
   "source": [
    "X.shape"
   ]
  },
  {
   "cell_type": "code",
   "execution_count": 9,
   "metadata": {},
   "outputs": [
    {
     "data": {
      "text/plain": [
       "(60000,)"
      ]
     },
     "execution_count": 9,
     "metadata": {},
     "output_type": "execute_result"
    }
   ],
   "source": [
    "y.shape"
   ]
  },
  {
   "cell_type": "code",
   "execution_count": 10,
   "metadata": {
    "collapsed": true
   },
   "outputs": [],
   "source": [
    "#画像の正規化\n",
    "X /= 255."
   ]
  },
  {
   "cell_type": "code",
   "execution_count": 11,
   "metadata": {
    "collapsed": true
   },
   "outputs": [],
   "source": [
    "def draw_digit(data):\n",
    "    \"\"\"数値の行列データを画像表示\"\"\"\n",
    "    plt.figure(figsize=(3, 3))\n",
    "    X, Y = np.meshgrid(range(28),range(28))\n",
    "    Z = data.reshape(28, 28)\n",
    "    Z = Z[::-1,:]\n",
    "    plt.pcolor(X, Y, Z)\n",
    "    plt.tick_params(labelbottom=\"off\")\n",
    "    plt.tick_params(labelleft=\"off\")\n",
    "    plt.gray()\n",
    "    plt.show()"
   ]
  },
  {
   "cell_type": "code",
   "execution_count": 12,
   "metadata": {},
   "outputs": [
    {
     "data": {
      "image/png": "[encoded data removed]",
      "text/plain": [
       "<matplotlib.figure.Figure at 0x10b9dbda0>"
      ]
     },
     "metadata": {},
     "output_type": "display_data"
    }
   ],
   "source": [
    "#画像の確認\n",
    "index  = 50000\n",
    "draw_digit(X[index])"
   ]
  },
  {
   "cell_type": "markdown",
   "metadata": {},
   "source": [
    "今回は用意されているtrainデータをホールド・アウト法にて分割し、20%をテストデータとして学習を行い、用意されているtestデータで最終的なモデルのaccuracyを求めることにする。"
   ]
  },
  {
   "cell_type": "code",
   "execution_count": 13,
   "metadata": {
    "collapsed": true
   },
   "outputs": [],
   "source": [
    "from sklearn.model_selection import train_test_split\n",
    "X_train, X_test, y_train, y_test = train_test_split(X, y, test_size=0.2, random_state=0)"
   ]
  },
  {
   "cell_type": "code",
   "execution_count": 14,
   "metadata": {},
   "outputs": [
    {
     "data": {
      "text/plain": [
       "48000"
      ]
     },
     "execution_count": 14,
     "metadata": {},
     "output_type": "execute_result"
    }
   ],
   "source": [
    "len(X_train)"
   ]
  },
  {
   "cell_type": "markdown",
   "metadata": {},
   "source": [
    "# ニューラルネットワーク"
   ]
  },
  {
   "cell_type": "code",
   "execution_count": 15,
   "metadata": {
    "collapsed": true
   },
   "outputs": [],
   "source": [
    "class MLP(chainer.Chain):\n",
    "    ''' ニューラルネットの構造を定義'''\n",
    "    def __init__(self):\n",
    "        super(MLP, self).__init__()\n",
    "        with self.init_scope():\n",
    "            self.l1=L.Linear(784, 900)  \n",
    "            self.l2=L.Linear(900, 1000) \n",
    "            self.l3=L.Linear(1000, 500) \n",
    "            self.l4=L.Linear(500, 10)   \n",
    "        \n",
    "    \n",
    "    ''' ニューラルネットの計算規則を定義'''\n",
    "    def __call__(self, X):\n",
    "        h1 = F.relu(self.l1(X))  \n",
    "        h2 = F.relu(self.l2(h1)) \n",
    "        h3 = F.relu(self.l3(h2)) \n",
    "        return self.l4(h3)       # 出力層への入力を返す"
   ]
  },
  {
   "cell_type": "code",
   "execution_count": 16,
   "metadata": {
    "collapsed": true
   },
   "outputs": [],
   "source": [
    "# 分類器インスタンスの生成\n",
    "# MLPクラスのインスタンスを引数として渡す\n",
    "model = L.Classifier(MLP())"
   ]
  },
  {
   "cell_type": "code",
   "execution_count": 28,
   "metadata": {
    "collapsed": true
   },
   "outputs": [],
   "source": [
    "# optimizerの定義; SGDを使用\n",
    "optimizer = chainer.optimizers.SGD() \n",
    "optimizer.setup(model)                # モデルを読み込ませる"
   ]
  },
  {
   "cell_type": "code",
   "execution_count": 29,
   "metadata": {
    "collapsed": true
   },
   "outputs": [],
   "source": [
    "# ミニバッチに含まれるサンプル数を指定\n",
    "# データからサンプルを100個ずつ取り出して学習する\n",
    "batch_size = 100\n",
    "# epoch数を指定\n",
    "n_epoch = 20"
   ]
  },
  {
   "cell_type": "code",
   "execution_count": 30,
   "metadata": {
    "collapsed": true
   },
   "outputs": [],
   "source": [
    "from chainer.datasets import tuple_dataset\n",
    "from chainer import iterators, training\n",
    "from chainer.training import extensions"
   ]
  },
  {
   "cell_type": "code",
   "execution_count": 31,
   "metadata": {
    "collapsed": true
   },
   "outputs": [],
   "source": [
    "# X_trainとy_trainをTupleDatasetにまとめる\n",
    "train = tuple_dataset.TupleDataset(X_train, y_train)"
   ]
  },
  {
   "cell_type": "code",
   "execution_count": 32,
   "metadata": {
    "collapsed": true
   },
   "outputs": [],
   "source": [
    "# train_iterを生成\n",
    "train_iter = iterators.SerialIterator(train, batch_size=batch_size, shuffle=True)"
   ]
  },
  {
   "cell_type": "code",
   "execution_count": 33,
   "metadata": {
    "collapsed": true
   },
   "outputs": [],
   "source": [
    "# Updataerを生成\n",
    "#度のデータを参照して、どのモデルと最適化手法でパラメータを更新するか\n",
    "# 今回はCPUの利用を想定\n",
    "updater = training.StandardUpdater(train_iter, optimizer, device=-1)"
   ]
  },
  {
   "cell_type": "code",
   "execution_count": 34,
   "metadata": {
    "collapsed": true
   },
   "outputs": [],
   "source": [
    "trainer = training.Trainer(updater, (n_epoch,'epoch'), out='result')"
   ]
  },
  {
   "cell_type": "code",
   "execution_count": 35,
   "metadata": {
    "collapsed": true
   },
   "outputs": [],
   "source": [
    "# testデータをTupleDatasetに変換\n",
    "test = tuple_dataset.TupleDataset(X_test,y_test)\n",
    "# test_iterを生成\n",
    "test_iter = iterators.SerialIterator(test, batch_size=batch_size ,shuffle=False, repeat=False)\n",
    "# Evaluatorクラスをtrainerに登録しておく\n",
    "trainer.extend(extensions.Evaluator(test_iter, model))\n",
    "# Evaluatorクラスをtrainerに登録しておく\n",
    "trainer.extend(extensions.Evaluator(test_iter, model))\n",
    "# ログファイルを作成する機能を追加\n",
    "trainer.extend(extensions.LogReport())\n",
    "# 学習状況の報告を逐一出力する機能を追加\n",
    "trainer.extend(extensions.PrintReport(['epoch', 'main/loss', 'main/accuracy', 'validation/main/loss','validation/main/accuracy']))\n",
    "# trainとtestの精度のグラフを出力。第1引数にグラフの縦軸に採用する項目を､第2引数に'epoch'を与えて横軸を指定し､第3引数にfile_name(出力される画像ファイルのファイル名）\n",
    "trainer.extend(extensions.PlotReport(['main/accuracy', 'validation/main/accuracy'],\n",
    "                          'epoch', file_name='accuracy.png'))\n",
    "# trainとtestの損失関数のグラフを出力\n",
    "trainer.extend(extensions.PlotReport(['main/loss', 'validation/main/loss'],\n",
    "                          'epoch', file_name='loss.png'))\n",
    "# 進捗報告をする機能を追加\n",
    "# trainer.extend(extensions.ProgressBar())"
   ]
  },
  {
   "cell_type": "code",
   "execution_count": 36,
   "metadata": {},
   "outputs": [
    {
     "name": "stdout",
     "output_type": "stream",
     "text": [
      "epoch       main/loss   main/accuracy  validation/main/loss  validation/main/accuracy\n",
      "\u001b[J1           0.103282    0.960646       0.364935              0.90125                   \n",
      "\u001b[J2           0.0918646   0.965083       0.367228              0.903                     \n",
      "\u001b[J3           0.0882384   0.966063       0.369445              0.90375                   \n",
      "\u001b[J4           0.085748    0.966875       0.369335              0.904                     \n",
      "\u001b[J5           0.083926    0.9675         0.373994              0.904417                  \n",
      "\u001b[J6           0.0826435   0.968167       0.377652              0.90325                   \n",
      "\u001b[J7           0.081415    0.968188       0.378973              0.903917                  \n",
      "\u001b[J8           0.080314    0.969313       0.37783               0.903667                  \n",
      "\u001b[J9           0.0793653   0.969146       0.378874              0.90375                   \n",
      "\u001b[J10          0.0784564   0.969521       0.384535              0.904167                  \n",
      "\u001b[J11          0.0776736   0.969563       0.382808              0.90375                   \n",
      "\u001b[J12          0.076778    0.970417       0.3883                0.903333                  \n",
      "\u001b[J13          0.0762127   0.970063       0.388355              0.904167                  \n",
      "\u001b[J14          0.0754376   0.970583       0.390446              0.903333                  \n",
      "\u001b[J15          0.0746362   0.970875       0.393108              0.903583                  \n",
      "\u001b[J16          0.0740788   0.9715         0.396611              0.903583                  \n",
      "\u001b[J17          0.0733895   0.971417       0.39491               0.904167                  \n",
      "\u001b[J18          0.0728383   0.972146       0.396977              0.904167                  \n",
      "\u001b[J19          0.0721251   0.972042       0.401709              0.903167                  \n",
      "\u001b[J20          0.0715293   0.972188       0.399936              0.903083                  \n"
     ]
    }
   ],
   "source": [
    "trainer.run()"
   ]
  },
  {
   "cell_type": "code",
   "execution_count": 26,
   "metadata": {
    "collapsed": true
   },
   "outputs": [],
   "source": [
    "from pylab import box\n",
    "def show_graph(src):\n",
    "    img =  plt.imread(src)\n",
    "    xpixels,ypixels = img.shape[0],img.shape[1]\n",
    "    dpi = 100\n",
    "    margin = 0.01\n",
    "    figsize = (1 + margin) * ypixels / dpi, (1 + margin) * xpixels / dpi\n",
    "\n",
    "    fig = plt.figure(figsize=figsize, dpi=dpi)\n",
    "    ax = fig.add_axes([margin, margin, 1 - 2*margin, 1 - 2*margin])\n",
    "    ax.tick_params(labelbottom=\"off\",bottom=\"off\")\n",
    "    ax.tick_params(labelleft=\"off\",left=\"off\")\n",
    "\n",
    "    ax.imshow(img, interpolation='none')\n",
    "    box(\"off\")\n",
    "    plt.show()"
   ]
  },
  {
   "cell_type": "code",
   "execution_count": 27,
   "metadata": {},
   "outputs": [
    {
     "data": {
      "image/png": "[encoded data removed]",
      "text/plain": [
       "<matplotlib.figure.Figure at 0x1214620f0>"
      ]
     },
     "metadata": {},
     "output_type": "display_data"
    },
    {
     "data": {
      "image/png": "[encoded data removed]",
      "text/plain": [
       "<matplotlib.figure.Figure at 0x1218adc50>"
      ]
     },
     "metadata": {},
     "output_type": "display_data"
    }
   ],
   "source": [
    "# 誤差と精度のグラフを描画\n",
    "show_graph('result/loss.png')\n",
    "show_graph('result/accuracy.png')"
   ]
  },
  {
   "cell_type": "markdown",
   "metadata": {},
   "source": [
    "適切なモデルは５−７epoch周辺のものだとわかる。"
   ]
  },
  {
   "cell_type": "code",
   "execution_count": 38,
   "metadata": {
    "collapsed": true
   },
   "outputs": [],
   "source": [
    "# モデルを利用して予測をする関数を定義\n",
    "def predict(model, X):\n",
    "    # データ数が1の場合は、バッチサイズ分の次元を追加\n",
    "    if len(X.shape) == 1:  \n",
    "        pred = model.predictor(X[None, ...]).data.argmax()\n",
    "    # データ数が2以上の場合はそのまま\n",
    "    else:  \n",
    "        pred = model.predictor(X).data.argmax(axis=1)\n",
    "    return pred"
   ]
  },
  {
   "cell_type": "code",
   "execution_count": 39,
   "metadata": {},
   "outputs": [
    {
     "data": {
      "text/plain": [
       "array([[1023,    4,   11,   30,    3,    3,  145,    0,    6,    0],\n",
       "       [   0, 1176,    0,   10,    0,    0,    2,    0,    1,    0],\n",
       "       [  19,    2, 1012,    9,  107,    0,   72,    0,    1,    0],\n",
       "       [  20,    6,    6, 1143,   30,    3,   23,    0,    3,    0],\n",
       "       [   2,    0,   96,   51, 1009,    0,   71,    0,    5,    0],\n",
       "       [   0,    0,    0,    0,    0, 1151,    0,    8,    0,   12],\n",
       "       [ 121,    1,   77,   15,   58,    0,  879,    0,   13,    0],\n",
       "       [   0,    0,    0,    0,    0,   19,    0, 1121,    3,   38],\n",
       "       [   4,    0,    2,    2,    1,    4,    3,    3, 1177,    1],\n",
       "       [   0,    0,    0,    0,    0,    8,    0,   28,    1, 1146]])"
      ]
     },
     "execution_count": 39,
     "metadata": {},
     "output_type": "execute_result"
    }
   ],
   "source": [
    "# 混同行列を出力\n",
    "# testデータに対して行うことに注意\n",
    "from sklearn.metrics import confusion_matrix as cm\n",
    "result = predict(model, X_test)\n",
    "cm(result, y_test)"
   ]
  },
  {
   "cell_type": "code",
   "execution_count": 42,
   "metadata": {
    "collapsed": true
   },
   "outputs": [],
   "source": [
    "# 混同行列をグラフで出力する関数\n",
    "def plot_cm(y_true, y_pred):\n",
    "    confmat = cm(y_true, y_pred)\n",
    "    fig, ax = plt.subplots(figsize=(10, 10))\n",
    "    ax.matshow(confmat, cmap=plt.cm.Blues, alpha=0.3)\n",
    "    for i in range(confmat.shape[0]):\n",
    "        for j in range(confmat.shape[1]):\n",
    "            ax.text(x=j, y=i, s=confmat[i, j], va='center', ha='center')\n",
    "    plt.xticks(np.arange(0, 10, 1)) # x軸の目盛りを指定\n",
    "    plt.yticks(np.arange(0, 10, 1)) # y軸の目盛りを指定\n",
    "    plt.xlabel('predicted label')\n",
    "    plt.ylabel('true label')\n",
    "    plt.show()"
   ]
  },
  {
   "cell_type": "code",
   "execution_count": 43,
   "metadata": {},
   "outputs": [
    {
     "data": {
      "image/png": "[encoded data removed]",
      "text/plain": [
       "<matplotlib.figure.Figure at 0x11e4682e8>"
      ]
     },
     "metadata": {},
     "output_type": "display_data"
    }
   ],
   "source": [
    "# 混同行列をグラフで出力\n",
    "# testデータに対して行うことに注意\n",
    "plot_cm(result, y_test)"
   ]
  },
  {
   "cell_type": "code",
   "execution_count": 44,
   "metadata": {},
   "outputs": [
    {
     "name": "stdout",
     "output_type": "stream",
     "text": [
      "accuracy: 0.903\n",
      "recall: 0.903\n",
      "precision: 0.904\n",
      "f1_score: 0.903\n"
     ]
    }
   ],
   "source": [
    "# 性能指標を確認\n",
    "from sklearn import metrics\n",
    "print('accuracy: %.3f' % metrics.accuracy_score(y_test, predict(model, X_test)))\n",
    "print('recall: %.3f' % metrics.recall_score(y_test, predict(model, X_test), average='macro'))\n",
    "print('precision: %.3f' % metrics.precision_score(y_test, predict(model, X_test), average='macro'))\n",
    "print('f1_score: %.3f' % metrics.f1_score(y_test, predict(model, X_test), average='macro'))"
   ]
  },
  {
   "cell_type": "code",
   "execution_count": 45,
   "metadata": {},
   "outputs": [
    {
     "name": "stdout",
     "output_type": "stream",
     "text": [
      "Saved the model.\n"
     ]
    }
   ],
   "source": [
    "# モデルの保存\n",
    "# (ファイル名, 保存したいモデルの変数名)\n",
    "serializers.save_npz('mnist.model', model)\n",
    "print('Saved the model.')"
   ]
  }
 ],
 "metadata": {
  "kernelspec": {
   "display_name": "Python 3",
   "language": "python",
   "name": "python3"
  },
  "language_info": {
   "codemirror_mode": {
    "name": "ipython",
    "version": 3
   },
   "file_extension": ".py",
   "mimetype": "text/x-python",
   "name": "python",
   "nbconvert_exporter": "python",
   "pygments_lexer": "ipython3",
   "version": "3.6.2"
  }
 },
 "nbformat": 4,
 "nbformat_minor": 2
}
